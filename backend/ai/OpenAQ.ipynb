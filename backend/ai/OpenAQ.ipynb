{
 "cells": [
  {
   "cell_type": "code",
   "execution_count": null,
   "id": "31335fe1",
   "metadata": {},
   "outputs": [],
   "source": [
    "import pandas as pd\n",
    "import glob\n",
    "import os\n",
    "\n",
    "# Carpeta donde tienes tus CSV de OpenAQ\n",
    "input_folder = \"C:\\\\Python Programs\\\\Programs de Python\\\\Nasa Udem 25\\\\OpenAQ csv\"   # 🔧 cambia por la ruta real\n",
    "output_csv = \"openaq_all.csv\"\n",
    "output_parquet = \"openaq_all.parquet\"\n",
    "\n",
    "# Buscar todos los archivos CSV en la carpeta\n",
    "csv_files = glob.glob(os.path.join(input_folder, \"*.csv\"))\n",
    "\n",
    "if not csv_files:\n",
    "    print(\"⚠️ No se encontraron archivos CSV en la carpeta.\")\n",
    "else:\n",
    "    print(f\"Se encontraron {len(csv_files)} archivos, uniendo...\")\n",
    "\n",
    "    # Leer y concatenar todos los CSV\n",
    "    dfs = []\n",
    "    for file in csv_files:\n",
    "        df = pd.read_csv(file)\n",
    "        dfs.append(df)\n",
    "\n",
    "    combined_df = pd.concat(dfs, ignore_index=True)\n",
    "\n",
    "    # Guardar como CSV unificado\n",
    "    combined_df.to_csv(output_csv, index=False)\n",
    "\n",
    "    # Guardar como Parquet\n",
    "    combined_df.to_parquet(output_parquet, index=False)\n",
    "\n",
    "    print(f\"✅ Archivos unidos y guardados en:\\n - {output_csv}\\n - {output_parquet}\")\n",
    "    print(combined_df.head())\n"
   ]
  },
  {
   "cell_type": "code",
   "execution_count": null,
   "id": "d90f7db1",
   "metadata": {},
   "outputs": [],
   "source": [
    "import os\n",
    "print(\"Directorio actual:\", os.getcwd())\n"
   ]
  }
 ],
 "metadata": {
  "kernelspec": {
   "display_name": "Python 3",
   "language": "python",
   "name": "python3"
  },
  "language_info": {
   "codemirror_mode": {
    "name": "ipython",
    "version": 3
   },
   "file_extension": ".py",
   "mimetype": "text/x-python",
   "name": "python",
   "nbconvert_exporter": "python",
   "pygments_lexer": "ipython3",
   "version": "3.12.10"
  }
 },
 "nbformat": 4,
 "nbformat_minor": 5
}
