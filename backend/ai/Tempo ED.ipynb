{
 "cells": [
  {
   "cell_type": "code",
   "execution_count": 1,
   "id": "d35c0354",
   "metadata": {},
   "outputs": [
    {
     "name": "stderr",
     "output_type": "stream",
     "text": [
      "C:\\Users\\leona\\AppData\\Local\\Packages\\PythonSoftwareFoundation.Python.3.12_qbz5n2kfra8p0\\LocalCache\\local-packages\\Python312\\site-packages\\tqdm\\auto.py:21: TqdmWarning: IProgress not found. Please update jupyter and ipywidgets. See https://ipywidgets.readthedocs.io/en/stable/user_install.html\n",
      "  from .autonotebook import tqdm as notebook_tqdm\n"
     ]
    }
   ],
   "source": [
    "# 1. Importar librerías\n",
    "import earthaccess\n",
    "import os\n",
    "import xarray as xr\n",
    "import pandas as pd"
   ]
  },
  {
   "cell_type": "code",
   "execution_count": 2,
   "id": "8ebe5f22",
   "metadata": {},
   "outputs": [
    {
     "name": "stdout",
     "output_type": "stream",
     "text": [
      "Authenticated? True\n"
     ]
    }
   ],
   "source": [
    "# 2. Login interactivo (EDL)\n",
    "auth = earthaccess.login(strategy=\"interactive\")\n",
    "print(\"Authenticated?\", auth.authenticated)"
   ]
  },
  {
   "cell_type": "code",
   "execution_count": 3,
   "id": "4a440dd0",
   "metadata": {},
   "outputs": [
    {
     "name": "stdout",
     "output_type": "stream",
     "text": [
      "\n",
      "Searching granules for TEMPO_NO2_L3...\n"
     ]
    }
   ],
   "source": [
    "# 3. Parámetros de búsqueda\n",
    "shortname = \"TEMPO_NO2_L3\"  # ✅ Dataset correcto\n",
    "date_start = \"2025-09-20 00:00:00\"\n",
    "date_end   = \"2025-09-28 23:59:59\"\n",
    "\n",
    "print(f\"\\nSearching granules for {shortname}...\")"
   ]
  },
  {
   "cell_type": "code",
   "execution_count": 4,
   "id": "1c54882f",
   "metadata": {},
   "outputs": [
    {
     "name": "stdout",
     "output_type": "stream",
     "text": [
      "Found 108 granules\n"
     ]
    }
   ],
   "source": [
    "# 4. Buscar granules\n",
    "granules = earthaccess.search_data(\n",
    "    short_name=shortname,\n",
    "    temporal=(date_start, date_end)\n",
    ")\n",
    "\n",
    "print(f\"Found {len(granules)} granules\")\n",
    "\n",
    "if not granules:\n",
    "    raise ValueError(\"❌ No se encontraron granules en este rango, intenta ampliar fechas\")"
   ]
  },
  {
   "cell_type": "code",
   "execution_count": 5,
   "id": "157e0e2b",
   "metadata": {},
   "outputs": [
    {
     "name": "stderr",
     "output_type": "stream",
     "text": [
      "QUEUEING TASKS | : 100%|██████████| 1/1 [00:00<00:00, 124.07it/s]\n",
      "PROCESSING TASKS | : 100%|██████████| 1/1 [00:00<?, ?it/s]\n",
      "COLLECTING RESULTS | : 100%|██████████| 1/1 [00:00<?, ?it/s]"
     ]
    },
    {
     "name": "stdout",
     "output_type": "stream",
     "text": [
      "✅ Granule descargado: tempo_data\\TEMPO_NO2_L3_V04_20250920T114128Z_S002.nc\n"
     ]
    },
    {
     "name": "stderr",
     "output_type": "stream",
     "text": [
      "\n"
     ]
    }
   ],
   "source": [
    "# 5. Descargar un granule al azar\n",
    "download_dir = \"./tempo_data\"\n",
    "os.makedirs(download_dir, exist_ok=True)\n",
    "\n",
    "local_paths = earthaccess.download(\n",
    "    granules=[granules[0]],  # baja solo el primero para pruebas\n",
    "    local_path=download_dir\n",
    ")\n",
    "\n",
    "print(\"✅ Granule descargado:\", local_paths[0])\n"
   ]
  },
  {
   "cell_type": "code",
   "execution_count": 6,
   "id": "cf3aa806",
   "metadata": {},
   "outputs": [
    {
     "name": "stdout",
     "output_type": "stream",
     "text": [
      "<xarray.Dataset> Size: 91MB\n",
      "Dimensions:    (latitude: 2950, longitude: 7750, time: 1)\n",
      "Coordinates:\n",
      "  * longitude  (longitude) float32 31kB -168.0 -168.0 -167.9 ... -13.03 -13.01\n",
      "  * latitude   (latitude) float32 12kB 14.01 14.03 14.05 ... 72.95 72.97 72.99\n",
      "  * time       (time) datetime64[ns] 8B 2025-09-20T11:41:46.026923776\n",
      "Data variables:\n",
      "    weight     (latitude, longitude) float32 91MB ...\n",
      "Attributes: (12/40)\n",
      "    history:                          2025-09-20T15:12:36Z: L2_regrid -v /tem...\n",
      "    scan_num:                         2\n",
      "    time_coverage_start:              2025-09-20T11:41:28Z\n",
      "    time_coverage_end:                2025-09-20T12:21:17Z\n",
      "    time_coverage_start_since_epoch:  1442403706.0269237\n",
      "    time_coverage_end_since_epoch:    1442406095.6548083\n",
      "    ...                               ...\n",
      "    title:                            TEMPO Level 3 nitrogen dioxide product\n",
      "    collection_shortname:             TEMPO_NO2_L3\n",
      "    collection_version:               1\n",
      "    keywords:                         EARTH SCIENCE>ATMOSPHERE>AIR QUALITY>NI...\n",
      "    summary:                          Nitrogen dioxide Level 3 files provide ...\n",
      "    coremetadata:                     \\nGROUP                  = INVENTORYMET...\n"
     ]
    }
   ],
   "source": [
    "# 6. Abrir con xarray\n",
    "ds = xr.open_dataset(local_paths[0])\n",
    "print(ds)\n"
   ]
  },
  {
   "cell_type": "code",
   "execution_count": null,
   "id": "f2344a59",
   "metadata": {},
   "outputs": [
    {
     "name": "stdout",
     "output_type": "stream",
     "text": [
      "Variables en este granule: ['weight', 'longitude', 'latitude', 'time']\n"
     ]
    }
   ],
   "source": [
    "#Por si se ocupan revisar las variables acceso rápido:\n",
    "#print(\"Variables en este granule:\", list(ds.variables))\n"
   ]
  },
  {
   "cell_type": "code",
   "execution_count": null,
   "id": "1397c222",
   "metadata": {},
   "outputs": [
    {
     "name": "stdout",
     "output_type": "stream",
     "text": [
      "Variables en este granule: ['weight', 'longitude', 'latitude', 'time']\n",
      "Variables candidatas de NO2: []\n",
      "⚠ No se encontró ninguna variable con 'NO2' en el nombre\n"
     ]
    }
   ],
   "source": [
    " # 7. Explorar variables disponibles\n",
    "print(\"Variables en este granule:\", list(ds.variables))\n",
    "\n",
    "# Buscar automáticamente variables que contengan \"NO2\" en su nombre\n",
    "no2_vars = [v for v in ds.variables if \"NO2\" in v.upper()]\n",
    "print(\"Variables candidatas de NO2:\", no2_vars)\n",
    "\n",
    "# 8. Si encontramos al menos una, exportamos la primera\n",
    "if no2_vars:\n",
    "    var = no2_vars[0]  # agarramos la primera candidata\n",
    "    print(f\"\\n✅ Usando variable: {var}\")\n",
    "\n",
    "    df = ds[[var]].to_dataframe().reset_index()\n",
    "    df.to_csv(\"tempo_no2_sample.csv\", index=False)\n",
    "    df.to_parquet(\"tempo_no2_sample.parquet\", index=False)\n",
    "    print(\"✅ Data exportada a CSV y Parquet\")\n",
    "else:\n",
    "    print(\"⚠ No se encontró ninguna variable con 'NO2' en el nombre\")"
   ]
  }
 ],
 "metadata": {
  "kernelspec": {
   "display_name": "Python 3",
   "language": "python",
   "name": "python3"
  },
  "language_info": {
   "codemirror_mode": {
    "name": "ipython",
    "version": 3
   },
   "file_extension": ".py",
   "mimetype": "text/x-python",
   "name": "python",
   "nbconvert_exporter": "python",
   "pygments_lexer": "ipython3",
   "version": "3.12.10"
  }
 },
 "nbformat": 4,
 "nbformat_minor": 5
}
