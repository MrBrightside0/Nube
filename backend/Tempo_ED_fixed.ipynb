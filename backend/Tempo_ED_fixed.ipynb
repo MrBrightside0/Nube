{
 "cells": [
  {
   "cell_type": "markdown",
   "id": "e1d73f79",
   "metadata": {},
   "source": [
    "# Tempo ED - Fixed (safe) version\n",
    "\n",
    "This notebook is a **modified** version of your uploaded `Tempo ED.ipynb`.\n",
    "I made these safety and compatibility changes:\n",
    "- Added a top cell that **disables network calls by default**. Set `RUN_NETWORK = True` and provide API keys to enable downloads.\n",
    "- Replaced timezone-naive `datetime.utcnow()` usages with timezone-aware `datetime.now(timezone.utc)`.\n",
    "- Wrapped network requests (requests/earthaccess/OpenAQ) in `if RUN_NETWORK:` guards to avoid errors when API keys are missing.\n",
    "- Added clear placeholders for API keys and instructions.\n",
    "- Did not execute any network operations. Run cells manually after filling API keys and setting `RUN_NETWORK = True`.\n",
    "\n",
    "**File saved as:** `/mnt/data/Tempo_ED_fixed.ipynb`\n"
   ]
  },
  {
   "cell_type": "code",
   "execution_count": null,
   "id": "250d95ed",
   "metadata": {},
   "outputs": [],
   "source": [
    "# Safety controls: set RUN_NETWORK = True only when you have entered API keys and want to perform downloads.\n",
    "RUN_NETWORK = True  # <-- change to True to enable network calls (and ensure API keys are set)\n",
    "# Place your API keys below:\n",
    "# import Contrasenas ignora\n",
    "\n",
    "API_KEY_OPENAQ = \"\"      # OpenAQ v3 API key\n",
    "API_KEY_OWM = \"\"         # OpenWeatherMap API key\n",
    "EARTHDATA_USER = \"\"      # Earthdata login user\n",
    "EARTHDATA_PASS = \"\"      # Earthdata login password\n"
   ]
  },
  {
   "cell_type": "code",
   "execution_count": 3,
   "id": "9ac3ff93",
   "metadata": {},
   "outputs": [
    {
     "name": "stderr",
     "output_type": "stream",
     "text": [
      "C:\\Users\\leona\\AppData\\Local\\Packages\\PythonSoftwareFoundation.Python.3.12_qbz5n2kfra8p0\\LocalCache\\local-packages\\Python312\\site-packages\\tqdm\\auto.py:21: TqdmWarning: IProgress not found. Please update jupyter and ipywidgets. See https://ipywidgets.readthedocs.io/en/stable/user_install.html\n",
      "  from .autonotebook import tqdm as notebook_tqdm\n"
     ]
    }
   ],
   "source": [
    "if RUN_NETWORK:\n",
    "    # Network calls are enabled\n",
    "    # 1. Importar librerías\n",
    "    import earthaccess\n",
    "    import os\n",
    "    import xarray as xr\n",
    "    import pandas as pd\n",
    "else:\n",
    "    print('RUN_NETWORK is False — network calls skipped. Set RUN_NETWORK = True to enable downloads.')\n"
   ]
  },
  {
   "cell_type": "code",
   "execution_count": 4,
   "id": "63829418",
   "metadata": {},
   "outputs": [
    {
     "name": "stdout",
     "output_type": "stream",
     "text": [
      "Authenticated? True\n"
     ]
    }
   ],
   "source": [
    "if RUN_NETWORK:\n",
    "    # Network calls are enabled\n",
    "    # 2. Login interactivo (EDL)\n",
    "    auth = earthaccess.login(strategy=\"interactive\")\n",
    "    print(\"Authenticated?\", auth.authenticated)\n",
    "else:\n",
    "    print('RUN_NETWORK is False — network calls skipped. Set RUN_NETWORK = True to enable downloads.')\n"
   ]
  },
  {
   "cell_type": "code",
   "execution_count": 5,
   "id": "13fc017c",
   "metadata": {},
   "outputs": [
    {
     "name": "stdout",
     "output_type": "stream",
     "text": [
      "\n",
      "Searching granules for TEMPO_NO2_L3...\n"
     ]
    }
   ],
   "source": [
    "# 3. Parámetros de búsqueda\n",
    "shortname = \"TEMPO_NO2_L3\"  # ✅ Dataset correcto\n",
    "date_start = \"2025-09-20 00:00:00\"\n",
    "date_end   = \"2025-09-28 23:59:59\"\n",
    "\n",
    "print(f\"\\nSearching granules for {shortname}...\")"
   ]
  },
  {
   "cell_type": "code",
   "execution_count": 6,
   "id": "fcb178bb",
   "metadata": {},
   "outputs": [
    {
     "name": "stdout",
     "output_type": "stream",
     "text": [
      "Found 116 granules\n"
     ]
    }
   ],
   "source": [
    "if RUN_NETWORK:\n",
    "    # Network calls are enabled\n",
    "    # 4. Buscar granules\n",
    "    granules = earthaccess.search_data(\n",
    "        short_name=shortname,\n",
    "        temporal=(date_start, date_end)\n",
    "    )\n",
    "\n",
    "    print(f\"Found {len(granules)} granules\")\n",
    "\n",
    "    if not granules:\n",
    "        raise ValueError(\"❌ No se encontraron granules en este rango, intenta ampliar fechas\")\n",
    "else:\n",
    "    print('RUN_NETWORK is False — network calls skipped. Set RUN_NETWORK = True to enable downloads.')\n"
   ]
  },
  {
   "cell_type": "code",
   "execution_count": null,
   "id": "5888c953",
   "metadata": {},
   "outputs": [
    {
     "name": "stderr",
     "output_type": "stream",
     "text": [
      "QUEUEING TASKS | : 100%|██████████| 116/116 [00:00<00:00, 11239.59it/s]\n",
      "PROCESSING TASKS | :   0%|          | 0/116 [00:00<?, ?it/s]"
     ]
    }
   ],
   "source": [
    "if RUN_NETWORK:\n",
    "    # Network calls are enabled\n",
    "    # 5. Descargar un granule al azar\n",
    "    download_dir = \"./tempo_data\"\n",
    "    os.makedirs(download_dir, exist_ok=True)\n",
    "\n",
    "    # CORRECCIÓN: Pasamos la lista 'granules' directamente sin corchetes extra.\n",
    "    # earthaccess espera una lista de objetos granule, no una lista que contiene una lista.\n",
    "    local_paths = earthaccess.download(\n",
    "        granules=granules, \n",
    "        local_path=download_dir\n",
    "    )\n",
    "\n",
    "    # Esto imprimirá la ruta del primer archivo descargado.\n",
    "    print(\"✅ Granules descargados. La ruta del primer archivo es:\", local_paths[0])\n",
    "else:\n",
    "    print('RUN_NETWORK is False — network calls skipped. Set RUN_NETWORK = True to enable downloads.')\n"
   ]
  },
  {
   "cell_type": "code",
   "execution_count": null,
   "id": "7e415a17",
   "metadata": {},
   "outputs": [],
   "source": [
    "# 6. Abrir con xarray\n",
    "import xarray as xr\n",
    "ds = xr.open_dataset(local_paths[0])\n",
    "print(ds)\n",
    "\n",
    "\n"
   ]
  },
  {
   "cell_type": "code",
   "execution_count": null,
   "id": "c46c2c8a",
   "metadata": {},
   "outputs": [],
   "source": [
    "#Por si se ocupan revisar las variables acceso rápido:\n",
    "#print(\"Variables en este granule:\", list(ds.variables))\n"
   ]
  },
  {
   "cell_type": "code",
   "execution_count": null,
   "id": "61e0a4a4",
   "metadata": {},
   "outputs": [],
   "source": [
    " # 7. Explorar variables disponibles\n",
    "print(\"Variables en este granule:\", list(ds.variables))\n",
    "\n",
    "# Buscar automáticamente variables que contengan \"NO2\" en su nombre\n",
    "no2_vars = [v for v in ds.variables if \"NO2\" in v.upper()]\n",
    "print(\"Variables candidatas de NO2:\", no2_vars)\n",
    "\n",
    "# 8. Si encontramos al menos una, exportamos la primera\n",
    "if no2_vars:\n",
    "    var = no2_vars[0]  # agarramos la primera candidata\n",
    "    print(f\"\\n✅ Usando variable: {var}\")\n",
    "\n",
    "    df = ds[[var]].to_dataframe().reset_index()\n",
    "    df.to_csv(\"tempo_no2_sample.csv\", index=False)\n",
    "    df.to_parquet(\"tempo_no2_sample.parquet\", index=False)\n",
    "    print(\"✅ Data exportada a CSV y Parquet\")\n",
    "else:\n",
    "    print(\"⚠ No se encontró ninguna variable con 'NO2' en el nombre\")"
   ]
  }
 ],
 "metadata": {
  "kernelspec": {
   "display_name": "Python 3",
   "language": "python",
   "name": "python3"
  },
  "language_info": {
   "codemirror_mode": {
    "name": "ipython",
    "version": 3
   },
   "file_extension": ".py",
   "mimetype": "text/x-python",
   "name": "python",
   "nbconvert_exporter": "python",
   "pygments_lexer": "ipython3",
   "version": "3.12.10"
  }
 },
 "nbformat": 4,
 "nbformat_minor": 5
}
